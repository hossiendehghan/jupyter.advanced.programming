{
 "cells": [
  {
   "cell_type": "markdown",
   "id": "02e5a807-3f06-414d-90a7-ca947a45d6de",
   "metadata": {},
   "source": [
    "### lists"
   ]
  },
  {
   "cell_type": "code",
   "execution_count": 1,
   "id": "d624a477-afda-4571-9710-771d4c1e838f",
   "metadata": {},
   "outputs": [
    {
     "name": "stdout",
     "output_type": "stream",
     "text": [
      "4\n",
      "15\n",
      "s\n"
     ]
    }
   ],
   "source": [
    "# تعریف یک لیست شامل انواع مختلف داده‌ها\n",
    "temp_list = [45.67, \"hossein dehghan\", 89, True]\n",
    "\n",
    "# چاپ تعداد عناصر موجود در temp_list\n",
    "print(len(temp_list))\n",
    "\n",
    "print(len(temp_list[1]))\n",
    "\n",
    "print(temp_list[1][3])\n"
   ]
  },
  {
   "cell_type": "code",
   "execution_count": 3,
   "id": "cd784d71-c49e-4a93-9e27-d6cddd47c38b",
   "metadata": {},
   "outputs": [
    {
     "name": "stdout",
     "output_type": "stream",
     "text": [
      "100\n",
      "100\n",
      "[25, 'اhossein', 100, False]\n",
      "[25, 'اhossein', 100, False, 'john', 75, 30.5, 'new_item']\n",
      "25\n",
      "['اhossein', 100, False, 'john', 75, 30.5, 'new_item']\n"
     ]
    }
   ],
   "source": [
    "# تعریف یک لیست شامل انواع مختلف داده‌ها\n",
    "temp_list = [25, \"اhossein\", 100, False]\n",
    "\n",
    "print(int(temp_list[2]))  # خروجی: 100\n",
    "\n",
    "print(str(temp_list[2]))  # خروجی: \"100\"\n",
    "\n",
    "print(str(temp_list))     \n",
    "\n",
    "temp_list += [\"john\", 75, 30.5]  \n",
    "temp_list.append(\"new_item\")      # اضافه کردن یک عنصر جدید به انتهای لیست\n",
    "print(temp_list)                   # چاپ لیست جدید\n",
    "\n",
    "x = temp_list.pop(0)              \n",
    "print(x)                          # چاپ مقدار حذف شده (اولین عنصر)\n",
    "print(temp_list)                 # چاپ لیست پس از حذف عنصر"
   ]
  },
  {
   "cell_type": "markdown",
   "id": "f7c4e892-859a-454d-b103-433b28adf8b9",
   "metadata": {},
   "source": [
    "### sort"
   ]
  },
  {
   "cell_type": "code",
   "execution_count": 4,
   "id": "381aaee0-bfde-474c-b5c0-1c6f19841ec9",
   "metadata": {},
   "outputs": [
    {
     "name": "stdout",
     "output_type": "stream",
     "text": [
      "[40, 50, 60, 70]\n",
      "['a', 'b', 'c', 'd', 'e']\n",
      "['1', '2', '3', '4', 'a', 'b', 'c', 'd']\n"
     ]
    }
   ],
   "source": [
    "ages = [40, 50, 60, 70]\n",
    "ages.sort()  # مرتب‌سازی لیست ages\n",
    "print(ages)\n",
    "\n",
    "strs = [\"a\", \"b\", \"c\", \"d\", \"e\"]\n",
    "strs.sort()  # مرتب‌سازی لیست strs\n",
    "print(strs)\n",
    "\n",
    "somethings = [\"1\", \"2\", \"3\", \"4\", \"a\", \"b\", \"c\", \"d\"]\n",
    "somethings.sort()  # مرتب‌سازی لیست somethings\n",
    "print(somethings)"
   ]
  },
  {
   "cell_type": "code",
   "execution_count": 5,
   "id": "cc7e46cb-c5ab-43b9-9098-b0cd980e84e4",
   "metadata": {},
   "outputs": [
    {
     "name": "stdout",
     "output_type": "stream",
     "text": [
      "[[1, 2, 3], [4, 5, 6], [7, 8, 9]]\n"
     ]
    }
   ],
   "source": [
    "# تعریف یک لیست شامل سه زیرلیست\n",
    "lists_in_list = [[1, 2, 3], [4, 5, 6], [7, 8, 9]]\n",
    "\n",
    "# چاپ لیست اصلی که شامل زیرلیست‌ها است\n",
    "print(lists_in_list)"
   ]
  },
  {
   "cell_type": "code",
   "execution_count": 6,
   "id": "14dea4c0-8aef-4117-85e0-a33ed92188e6",
   "metadata": {},
   "outputs": [
    {
     "name": "stdout",
     "output_type": "stream",
     "text": [
      "math = 25\n",
      "history = 18\n",
      "chemistry = 22\n",
      "physics = 30\n",
      "art = 27\n"
     ]
    }
   ],
   "source": [
    "# تعریف لیست نمرات\n",
    "my_scores = [25, 18, 22, 30, 27]\n",
    "\n",
    "# تعریف لیست دوره‌ها\n",
    "my_courses = [\"math\", \"history\", \"chemistry\", \"physics\", \"art\"]\n",
    "\n",
    "n = 1\n",
    "\n",
    "# حلقه برای تکرار در لیست دوره‌ها\n",
    "for i in my_courses:\n",
    "    # چاپ نام دوره و نمره مربوط به آن\n",
    "    print(i, \"=\", my_scores[n - 1])\n",
    "    n += 1"
   ]
  },
  {
   "cell_type": "markdown",
   "id": "21f3d081-013e-4f78-85c0-6ca18ef50db1",
   "metadata": {},
   "source": [
    "### Q. sorted scores"
   ]
  },
  {
   "cell_type": "code",
   "execution_count": 7,
   "id": "689cfa7e-4db7-4c48-bfa1-c06b80e83a7c",
   "metadata": {},
   "outputs": [
    {
     "name": "stdout",
     "output_type": "stream",
     "text": [
      "math = 30\n",
      "history = 25\n",
      "art = 20\n",
      "chemistry = 15\n",
      "english = 12\n"
     ]
    }
   ],
   "source": [
    "# تعریف لیست نمرات\n",
    "my_scores = [30, 25, 15, 5, 20, 12]\n",
    "\n",
    "# تعریف لیست دوره‌ها\n",
    "my_courses = [\"math\", \"history\", \"chemistry\", \"physics\", \"art\", \"english\"]\n",
    "\n",
    "# مرتب‌سازی نمرات و دوره‌ها به ترتیب نزولی\n",
    "for i in range(len(my_scores)):\n",
    "    for j in range(i + 1, len(my_scores)):\n",
    "        if my_scores[i] < my_scores[j]:\n",
    "            # جابجایی نمرات\n",
    "            my_scores[i], my_scores[j] = my_scores[j], my_scores[i]\n",
    "            # جابجایی نام دوره‌ها\n",
    "            my_courses[i], my_courses[j] = my_courses[j], my_courses[i]\n",
    "\n",
    "filtered_scores = []\n",
    "filtered_courses = []\n",
    "for i in range(len(my_scores)):\n",
    "    if my_scores[i] >= 10:\n",
    "        filtered_scores.append(my_scores[i])  # اضافه کردن نمره به لیست فیلتر شده\n",
    "        filtered_courses.append(my_courses[i])  # اضافه کردن نام دوره به لیست فیلتر شده\n",
    "\n",
    "for n, (course, score) in enumerate(zip(filtered_courses, filtered_scores), start=1):\n",
    "    print(f\"{course} = {score}\")"
   ]
  }
 ],
 "metadata": {
  "kernelspec": {
   "display_name": "Python 3 (ipykernel)",
   "language": "python",
   "name": "python3"
  },
  "language_info": {
   "codemirror_mode": {
    "name": "ipython",
    "version": 3
   },
   "file_extension": ".py",
   "mimetype": "text/x-python",
   "name": "python",
   "nbconvert_exporter": "python",
   "pygments_lexer": "ipython3",
   "version": "3.12.1"
  }
 },
 "nbformat": 4,
 "nbformat_minor": 5
}
