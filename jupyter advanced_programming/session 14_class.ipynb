{
 "cells": [
  {
   "cell_type": "markdown",
   "metadata": {},
   "source": [
    "# Session 14\n"
   ]
  },
  {
   "cell_type": "code",
   "execution_count": 1,
   "metadata": {},
   "outputs": [
    {
     "name": "stdout",
     "output_type": "stream",
     "text": [
      "{'name': {'first name': 'hossein', 'last name': 'dehghan'}, 'age': 22, 'cities': ['Tehran', 'kish', 'shiraz'], 'friends': [{'first name': 'Shahrad', 'last name': 'Shahraki', 'age': 21, 'id': 0}, {'first name': 'mohammd', 'last name': 'kaninezhad', 'age': 20, 'id': 1}, {'first name': 'Erfan', 'last name': 'khyri_Kasef', 'age': 23, 'id': 2}], 'id': 23}\n"
     ]
    }
   ],
   "source": [
    "# تعریف یک دیکشنری شامل اطلاعات پروفایل\n",
    "profile_dict = {\n",
    "    'name': {'first name': 'hossein', 'last name': 'dehghan'},\n",
    "    'age': 22,\n",
    "    'cities': ['Tehran', 'kish', 'shiraz'],\n",
    "    'friends': [\n",
    "        {'first name': 'Shahrad', 'last name': 'Shahraki', 'age': 21, 'id': 0},\n",
    "        {'first name': 'mohammd', 'last name': 'kaninezhad', 'age': 20, 'id': 1},\n",
    "        {'first name': 'Erfan', 'last name': 'khyri_Kasef', 'age': 23, 'id': 2}\n",
    "    ]\n",
    "}\n",
    "\n",
    "# اضافه کردن یک کلید جدید به دیکشنری با نام \"id\" و مقدار 23\n",
    "profile_dict[\"id\"] = 23\n",
    "\n",
    "# چاپ دیکشنری پروفایل به کنسول\n",
    "print(profile_dict)\n",
    "\n",
    "# تبدیل مقدار \"id\" به رشته و ذخیره آن در متغیر name\n",
    "name = str(profile_dict[\"id\"])\n",
    "\n",
    "# باز کردن یا ایجاد یک فایل متنی با نام برابر با مقدار \"id\" (یعنی \"23.txt\") در حالت نوشتن\n",
    "temp_file = open(f\"{name}.txt\", \"w\")\n",
    "\n",
    "# نوشتن محتوای دیکشنری پروفایل به فایل به صورت رشته\n",
    "temp_file.write(str(profile_dict))\n",
    "\n",
    "# بستن فایل پس از نوشتن\n",
    "temp_file.close()"
   ]
  }
 ],
 "metadata": {
  "kernelspec": {
   "display_name": "Python 3 (ipykernel)",
   "language": "python",
   "name": "python3"
  },
  "language_info": {
   "codemirror_mode": {
    "name": "ipython",
    "version": 3
   },
   "file_extension": ".py",
   "mimetype": "text/x-python",
   "name": "python",
   "nbconvert_exporter": "python",
   "pygments_lexer": "ipython3",
   "version": "3.12.1"
  }
 },
 "nbformat": 4,
 "nbformat_minor": 4
}
