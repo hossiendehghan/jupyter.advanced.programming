{
 "cells": [
  {
   "cell_type": "markdown",
   "metadata": {},
   "source": [
    "# Session 15"
   ]
  },
  {
   "cell_type": "markdown",
   "metadata": {},
   "source": [
    "##  opening files from our folder"
   ]
  },
  {
   "cell_type": "code",
   "execution_count": 17,
   "metadata": {},
   "outputs": [],
   "source": [
    "# باز کردن فایل متنی با نام \"1.txt\" در پوشه \"classmates\"\n",
    "file = open(\"classmates/1.txt\")\n",
    "\n",
    "# خواندن محتوای فایل و ذخیره آن در متغیر data\n",
    "data = file.read()\n",
    "\n",
    "# چاپ محتوای خوانده شده از فایل (این خط کامنت شده است)\n"
   ]
  },
  {
   "cell_type": "markdown",
   "metadata": {},
   "source": [
    "##  using AI to do the work "
   ]
  },
  {
   "cell_type": "code",
   "execution_count": 18,
   "metadata": {},
   "outputs": [],
   "source": [
    "import os  # وارد کردن ماژول os برای کار با سیستم فایل\n",
    "\n",
    "# تعریف مسیر پوشه‌ای که شامل فایل‌های متنی است\n",
    "folder_path = \"D:\\\\my_codes\\\\Advanced Programming\\\\classmates\"\n",
    "\n",
    "# ایجاد یک دیکشنری خالی برای ذخیره محتوای فایل‌ها\n",
    "file_contents = {}\n",
    "\n",
    "# تکرار بر روی نام فایل‌ها در پوشه مشخص شده\n",
    "for filename in os.listdir(folder_path):\n",
    "    # بررسی اینکه آیا نام فایل به \".txt\" ختم می‌شود\n",
    "    if filename.endswith('.txt'):\n",
    "        # استخراج شناسه فایل (بدون پسوند)\n",
    "        file_id = filename.split(\".\")[0]\n",
    "        \n",
    "        # ساخت مسیر کامل فایل با استفاده از os.path.join\n",
    "        FILE_PATH = os.path.join(folder_path, filename)\n",
    "\n",
    "        # باز کردن فایل در حالت خواندن\n",
    "        with open(FILE_PATH, 'r') as file:\n",
    "            content = file.read()  # خواندن محتوای فایل\n",
    "            \n",
    "            # ذخیره محتوای خوانده شده در دیکشنری با شناسه فایل به عنوان کلید\n",
    "            file_contents[file_id] = content\n",
    "\n",
    "# چاپ دیکشنری شامل محتوای فایل‌ها (این خط کامنت شده است)\n"
   ]
  },
  {
   "cell_type": "markdown",
   "metadata": {},
   "source": [
    "##  doing the work without AI"
   ]
  },
  {
   "cell_type": "code",
   "execution_count": 34,
   "metadata": {},
   "outputs": [
    {
     "name": "stdout",
     "output_type": "stream",
     "text": [
      "[{'name': {'first_name': 'Shayan', 'last_name': 'Shahvari'}, 'age': 20, 'cities': ['Tehran', 'Moscow', 'Kish'], 'friends': [{'first_name': 'Parsa', 'last_name': 'khaki', 'age': 30, 'id': 0}, {'first_name': 'Kiavash', 'last_name': 'abbasnejad', 'age': 37, 'id': 1}, {'first_name': 'Kourosh', 'last_name': 'ikani', 'age': 20}], 'id': 1}, {'name': {'firstName': 'amir_ali', 'lastName': 'mohammadi'}, 'age': 22, 'id': 10, 'cities': ['Tehran', 'kish', 'kabul'], 'friends': [{'firstName': 'kamran', 'lastName': 'Fry', 'age': 80, 'id': 0}, {'firstName': 'aligoodarz', 'lastName': 'baboli', 'age': 4, 'id': 1}, {'firstName': 'parham', 'lastName': 'Wong', 'age': 30, 'id': 2}]}, {'name': {'first_name': 'Parsa', 'last_name': 'Mollaei'}, 'age': 22, 'my_id': 11, 'cities': ['tehran', 'esfehan', 'kerman'], 'friends': [{'first_name': 'ali', 'last_name': 'Barkhodari', 'age': 22, 'id': '2'}, {'first_name': 'AmirHossein', 'last_name': 'yousefzade', 'age': 22, 'id': 2}, {'first_name': 'Parnian', 'last_name': 'Mollaei', 'age': 13, 'id': 3}]}, {'id': 12, 'name': 'Sina', 'age': 21, 'email': 'sina.sherkat@example.com', 'location': 'Kish'}, {'name': {'firstName': 'Fazel', 'lastName': 'Basiri'}, 'age': 25, 'cities': ['Bam', 'Shiraz', 'Kish'], 'friends': [{'firstName': 'Saeed', 'lastName': 'Ashrafian', 'age': 25}, {'firstName': 'Mahsa', 'lastName': 'Kzn', 'age': 22}, {'firstName': 'Alireza', 'lastName': 'PourMoghadam', 'age': 26}], 'id': 13}, {'name': {'first name': 'Mahsa', 'last name': 'kzn'}, 'age': 22, 'cities': ['Tehran', 'Shiraz', 'Rasht', 'Mashhad'], 'friends': [{'firstname': 'Fazel', 'Lastname': 'basiri', 'age': 25, 'id': 13}, {'firstname': 'Niayesh', 'lastname': 'Mohammadi', 'age': 22, 'id': 0}], 'id': 14}, {'name': {'firstname': 'Hesam', 'lastName': 'Fatemizadeh'}, 'age': 21, 'cities': ['TEHRAN', 'KISH', 'ABADAN'], 'friends': [{'firstname': 'mariam', 'lastname': 'shojaodin', 'age': 21, 'id': '100'}, {'firstname': 'abbas', 'lastname': 'ranjbar', 'age': 25, 'id': '101'}, {'firstname': 'ali', 'lastname': 'niazi', 'age': 23, 'id': 102}], 'id': 16}, {'name': {'first name': 'Mariam', 'last name': 'Shojaedin'}, 'age': 21, 'cities': ['Kaluga', 'Moscow', 'Sochi'], 'friends': [{'firstName': 'Mahsa', 'lastName': 'Rastaghi', 'age': 22, 'ID': '0'}, {'firstName': 'Hesam', 'lastName': 'Fatemizade', 'age': 21, 'ID': '1'}, {'firstName': 'Nika', 'lastName': 'Sadidi', 'age': 22, 'ID': '2'}, {'firstName': 'Ali', 'lastName': 'Niazi', 'age': 23, 'ID': '3'}], 'ID': 17}, {'Name': {'First name': 'Mahsa', 'Last name': 'Rastaghi'}, 'Age': 22, 'Cities': ['Kish', 'Shiraz', 'Tehran'], 'Friends': [{'first name': ' Mariam', 'Last name': 'Shojaedin', 'Age': 21, 'Id': 0}, {'first name': ' Nika', 'Last name': 'Sadidi', 'Age': 22, 'Id': 1}, {'first name': ' Hesam', 'Last name': 'Fatemi zadeh', 'Age': 21, 'Id': 2}, {'first name': 'Fatemeh', 'Last name': 'Sayyadi', 'Age': 22, 'Id': '3'}], 'Id': 18}, {'name': 'Mobina Mohammadiuon', 'age': 21, 'id': 19, 'cities': ['Tehran', 'Boston', 'Shahrkord'], 'friends': [{'firstName': 'Elaheh', 'lastName': 'HosseinAbadi', 'age': 21, 'id': 0}, {'firstName': 'Nika', 'lastName': 'Sadidi', 'age': 22, 'id': 1}, {'firstName': 'Azin', 'lastName': 'Esfandiari', 'age': 25, 'id': 2}]}, {'name': {'firstName': 'parsa', 'lastName': 'khaki'}, 'age': 19, 'cities': ['tehran', 'boston', 'mehran'], 'friends': [{'firstName': 'shayan', 'lastname': 'shahvari', 'age': 35, 'id': 0}, {'firstName': 'kiavash', 'lastName': 'abasnejad', 'age': 21, 'id': 1}, {'firstName': 'behrad', 'lastName': 'biniaz', 'age': 30, 'id': 2}], 'id': 2}, {'name': {'firstName': 'Zahra', 'lastName': 'Akhlaghipoor'}, 'age': 22, 'cities': ['Kish'], 'friends': [{'firstName': 'Tima', 'LastName': 'Kalhori', 'age': 19, 'id': 0}, {'firstName': 'Nikki', 'LastName': 'Khayyat', 'age': 21, 'id': 1}], 'id': 4}, {'firstName': 'Tima', 'lastName': 'Kalhori', 'age': 19, 'cities': ['Tehran', 'Boston', 'Shahrekord'], 'friends': [{'firstName': 'philip', 'lastName': 'fry', 'age': 35, 'id': 0}, {'firstName': 'zahra', 'lastName': 'akhlaghipoor', 'age': 22, 'id': 12}, {'firstName': 'leili', 'lastname': 'shabani', 'age': 27, 'id': 32}], 'id': 5}, {'name': {'firstname': 'Nikki', 'lastname': 'Khayyat'}, 'age': 23, 'cities': ['Tehran', 'Boston', 'Shahrekord'], 'friends': [{'firstname': 'Charles', 'lastname': 'Lec', 'age': 27, 'ID': 0}, {'firstname': 'Franco', 'lastname': 'Colapinto', 'age': 21, 'ID': 0}, {'firstname': 'Lewis', 'lastname': 'Hamilton', 'age': 40, 'ID': 0}], 'Id': 6}, {'name': {'firstname': 'Saba', 'surname': 'Sarlak'}, 'age': 20, 'cities': ['kl', 'iis', 'maha'], 'lastCity': ['kl'], 'friends': [{'firstname': 'elnaz', 'lastname': 'ahmad', 'age': 22, 'id': 0}, {'firstname': 'asal', 'lastname': 'sabaghzade', 'age': 26, 'id': 2}, {'firstname': 'setia', 'lastname': 'dehghan', 'id': 'bestfriend', 'age': 25}], 'id': 7}, {'name': {'first name': 'Mohammad', 'last name': 'Mohammad Khaninezhad'}, 'age': 20, 'cities': ['Tehran', 'Boston', 'Shahrekord'], 'friends': [{'first name': 'Shahrad', 'last name': 'Shahraki', 'age': 21, 'id': 0}, {'first name': 'Hossein', 'last name': 'Dehghan', 'age': 22, 'id': 1}, {'first name': 'Erfan', 'last name': 'Kasef', 'age': 23, 'id': 2}], 'id': 8}, {'name': {'first name': 'shahrad', 'last name': 'shahraki'}, 'age': 22, 'cities': ['birjand', 'khoosf', 'tabas'], 'friends': [{'first name': 'alireza', 'last name': 'balali', 'age': 7, 'id': 2}, {'first name': 'shahrokh', 'last name': 'shahmohammadi', 'age': 40, 'id': 7}, {'first name': 'saba', 'last name': 'samaani', 'age': 34, 'id': 5}], 'id': 9}]\n"
     ]
    }
   ],
   "source": [
    "import os  # وارد کردن ماژول os برای کار با سیستم فایل\n",
    "import json  # وارد کردن ماژول json برای کار با داده‌های JSON\n",
    "\n",
    "# تعیین دایرکتوری ریشه (پوشه جاری)\n",
    "ROOT_DIR = os.path.abspath(os.curdir)\n",
    "\n",
    "# لیست کردن تمام فایل‌ها در پوشه \"classmates\"\n",
    "list_of_files = os.listdir(ROOT_DIR + '/classmates')\n",
    "# print(list_of_files)  # چاپ لیست نام فایل‌ها (این خط کامنت شده است)\n",
    "\n",
    "# ایجاد یک لیست خالی برای ذخیره پروفایل‌ها\n",
    "list_of_profiles = []\n",
    "\n",
    "# تکرار بر روی هر فایل در لیست فایل‌ها\n",
    "for file in list_of_files:\n",
    "    # باز کردن هر فایل در پوشه \"classmates\"\n",
    "    f = open(\"classmates/\" + file)\n",
    "    \n",
    "    # خواندن محتوای فایل\n",
    "    temp_profile = f.read()\n",
    "    \n",
    "    # تبدیل رشته به فرمت JSON (با جایگزینی ' با \")\n",
    "    converted_profile = json.loads(temp_profile.replace(\"'\", \"\\\"\"))\n",
    "    \n",
    "    # اضافه کردن پروفایل تبدیل شده به لیست پروفایل‌ها\n",
    "    list_of_profiles.append(converted_profile)\n",
    "    \n",
    "    # بستن فایل پس از خواندن محتوا\n",
    "    f.close()\n",
    "\n",
    "# چاپ لیست پروفایل‌ها\n",
    "print(list_of_profiles)"
   ]
  },
  {
   "cell_type": "code",
   "execution_count": 36,
   "metadata": {},
   "outputs": [
    {
     "name": "stdout",
     "output_type": "stream",
     "text": [
      "21.294117647058822\n",
      "17\n"
     ]
    }
   ],
   "source": [
    "# ایجاد یک لیست خالی برای ذخیره سن‌ها\n",
    "sum_of_ages = []\n",
    "\n",
    "# تکرار بر روی هر پروفایل در لیست پروفایل‌ها\n",
    "for i in list_of_profiles:\n",
    "    if \"age\" in i.keys():\n",
    "        sum_of_ages.append(i[\"age\"])  # اضافه کردن سن به لیست اگر کلید \"age\" وجود داشته باشد\n",
    "    # بررسی اینکه آیا کلید \"Age\" (با حرف بزرگ) در دیکشنری پروفایل موجود است\n",
    "    elif \"Age\" in i.keys():\n",
    "        sum_of_ages.append(i[\"Age\"])  # اضافه کردن سن به لیست اگر کلید \"Age\" وجود داشته باشد\n",
    "\n",
    "print(sum(sum_of_ages) / len(sum_of_ages))\n",
    "\n",
    "# چاپ تعداد سن‌های جمع‌آوری شده\n",
    "print(len(sum_of_ages))"
   ]
  },
  {
   "cell_type": "code",
   "execution_count": 1,
   "metadata": {},
   "outputs": [
    {
     "ename": "NameError",
     "evalue": "name 'list_of_files' is not defined",
     "output_type": "error",
     "traceback": [
      "\u001b[1;31m---------------------------------------------------------------------------\u001b[0m",
      "\u001b[1;31mNameError\u001b[0m                                 Traceback (most recent call last)",
      "Cell \u001b[1;32mIn[1], line 7\u001b[0m\n\u001b[0;32m      4\u001b[0m writer_ages \u001b[38;5;241m=\u001b[39m []\n\u001b[0;32m      6\u001b[0m \u001b[38;5;66;03m# تکرار بر روی هر آیتم در لیست فایل‌ها\u001b[39;00m\n\u001b[1;32m----> 7\u001b[0m \u001b[38;5;28;01mfor\u001b[39;00m item \u001b[38;5;129;01min\u001b[39;00m \u001b[43mlist_of_files\u001b[49m:\n\u001b[0;32m      8\u001b[0m     \u001b[38;5;28;01mtry\u001b[39;00m:\n\u001b[0;32m      9\u001b[0m         item \u001b[38;5;241m=\u001b[39m item\u001b[38;5;241m.\u001b[39mreplace(\u001b[38;5;124m\"\u001b[39m\u001b[38;5;124m'\u001b[39m\u001b[38;5;124m\"\u001b[39m, \u001b[38;5;124m'\u001b[39m\u001b[38;5;124m\"\u001b[39m\u001b[38;5;124m'\u001b[39m)\n",
      "\u001b[1;31mNameError\u001b[0m: name 'list_of_files' is not defined"
     ]
    }
   ],
   "source": [
    "import json  # وارد کردن ماژول json برای کار با داده‌های JSON\n",
    "\n",
    "# ایجاد یک لیست خالی برای ذخیره سن نویسندگان\n",
    "writer_ages = []\n",
    "\n",
    "# تکرار بر روی هر آیتم در لیست فایل‌ها\n",
    "for item in list_of_files:\n",
    "    try:\n",
    "        item = item.replace(\"'\", '\"')\n",
    "        \n",
    "        record = json.loads(item)\n",
    "        \n",
    "        # اطمینان از اینکه شیء تجزیه شده یک دیکشنری است و کلید 'age' در آن وجود دارد\n",
    "        if isinstance(record, dict) and 'age' in record:\n",
    "            writer_ages.append(record['age'])  # اضافه کردن سن نویسنده به لیست\n",
    "\n",
    "    except (json.JSONDecodeError, TypeError) as e:\n",
    "        # چاپ خطا در صورت عدم توانایی در تجزیه رکورد\n",
    "        print(f\"Error parsing record: {e}\")\n",
    "\n",
    "if writer_ages:\n",
    "    average_age = sum(writer_ages) / len(writer_ages)  # محاسبه میانگین سن\n",
    "    print(f\"Average age of writers: {average_age:.2f}\")  # چاپ میانگین سن با دو رقم اعشار\n",
    "else:\n",
    "    print(\"No writer ages found.\")  # اگر هیچ سنی پیدا نشود، پیام مناسب چاپ می‌شود"
   ]
  }
 ],
 "metadata": {
  "kernelspec": {
   "display_name": "Python 3 (ipykernel)",
   "language": "python",
   "name": "python3"
  },
  "language_info": {
   "codemirror_mode": {
    "name": "ipython",
    "version": 3
   },
   "file_extension": ".py",
   "mimetype": "text/x-python",
   "name": "python",
   "nbconvert_exporter": "python",
   "pygments_lexer": "ipython3",
   "version": "3.12.1"
  }
 },
 "nbformat": 4,
 "nbformat_minor": 4
}
