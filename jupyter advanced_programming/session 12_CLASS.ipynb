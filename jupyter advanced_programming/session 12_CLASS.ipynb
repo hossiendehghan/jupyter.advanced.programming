{
 "cells": [
  {
   "cell_type": "markdown",
   "metadata": {},
   "source": [
    "# Session 12"
   ]
  },
  {
   "cell_type": "markdown",
   "metadata": {},
   "source": [
    "###  name dict"
   ]
  },
  {
   "cell_type": "code",
   "execution_count": 3,
   "metadata": {},
   "outputs": [
    {
     "name": "stdout",
     "output_type": "stream",
     "text": [
      "{'name': {'first name': 'hossein', 'last name': 'dehghan'}, 'age': 22}\n",
      "hossein\n",
      "The last city you visited was shiraz and you have been to 3 cities\n"
     ]
    }
   ],
   "source": [
    "# تعریف یک دیکشنری شامل نام و نام خانوادگی\n",
    "name_dict = {\"first name\": \"hossein\", \"last name\": \"dehghan\"}\n",
    "\n",
    "# تعریف یک دیکشنری شامل پروفایل که شامل نام و سن است\n",
    "profile_dict = {\"name\": name_dict, \"age\": 22}\n",
    "\n",
    "# چاپ دیکشنری پروفایل\n",
    "print(profile_dict)\n",
    "\n",
    "# چاپ نام کوچک از دیکشنری پروفایل\n",
    "print(profile_dict[\"name\"][\"first name\"])\n",
    "\n",
    "# تعریف یک لیست از شهرها\n",
    "cities = [\"Tehran\", \"kish\", \"shiraz\"]\n",
    "\n",
    "# اضافه کردن لیست شهرها به دیکشنری پروفایل\n",
    "profile_dict[\"cities\"] = cities\n",
    "\n",
    "# چاپ آخرین شهری که بازدید شده و تعداد شهرهایی که بازدید شده است\n",
    "print(\"The last city you visited was\", profile_dict[\"cities\"][-1], \"and you have been to\", len(profile_dict[\"cities\"]), \"cities\")"
   ]
  },
  {
   "cell_type": "code",
   "execution_count": 2,
   "metadata": {},
   "outputs": [
    {
     "name": "stdout",
     "output_type": "stream",
     "text": [
      "{'friends': [{'first name': 'Shahrad', 'last name': 'Shahraki', 'age': 21, 'id': 0}, {'first name': 'mohammd', 'last name': 'khaninezhad', 'age': 22, 'id': 1}]}\n",
      "[{'first name': 'Shahrad', 'last name': 'Shahraki', 'age': 21, 'id': 0}, {'first name': 'mohammd', 'last name': 'khaninezhad', 'age': 22, 'id': 1}, {'first name': 'Erfan', 'last name': 'KHYRI_Kasef', 'age': 23, 'id': 2}]\n",
      "{'friends': [{'first name': 'Shahrad', 'last name': 'Shahraki', 'age': 21, 'id': 0}, {'first name': 'mohammd', 'last name': 'khaninezhad', 'age': 22, 'id': 1}, {'first name': 'Erfan', 'last name': 'KHYRI_Kasef', 'age': 23, 'id': 2}]}\n"
     ]
    }
   ],
   "source": [
    "# تعریف یک دیکشنری شامل اطلاعات پروفایل\n",
    "profile_dict = {\n",
    "    \"friends\": [\n",
    "        {\"first name\": \"Shahrad\", \"last name\": \"Shahraki\", \"age\": 21, \"id\": 0},\n",
    "        {\"first name\": \"mohammd\", \"last name\": \"khaninezhad\", \"age\": 22, \"id\": 1}\n",
    "    ]\n",
    "}\n",
    "\n",
    "# چاپ دیکشنری پروفایل که شامل دوستان است\n",
    "print(profile_dict)\n",
    "\n",
    "# اضافه کردن دوست جدید به لیست دوستان\n",
    "profile_dict[\"friends\"].append({\"first name\": \"Erfan\", \"last name\": \"KHYRI_Kasef\", \"age\": 23, \"id\": 2})\n",
    "\n",
    "# چاپ لیست دوستان پس از اضافه کردن دوست جدید\n",
    "print(profile_dict[\"friends\"])\n",
    "\n",
    "# چاپ دیکشنری پروفایل کامل پس از اضافه کردن دوست جدید\n",
    "print(profile_dict)"
   ]
  },
  {
   "cell_type": "markdown",
   "metadata": {},
   "source": [
    "## Q print name of oldest friend and average age of your friends "
   ]
  },
  {
   "cell_type": "code",
   "execution_count": 8,
   "metadata": {},
   "outputs": [
    {
     "name": "stdout",
     "output_type": "stream",
     "text": [
      "This is my oldest friend: Erfan KHYRI_Kasef\n",
      "This is the average of my friends age: 22\n"
     ]
    }
   ],
   "source": [
    "# تعریف دیکشنری پروفایل شامل دوستان\n",
    "profile_dict = {\n",
    "    \"name\": {\"first name\": \"hossein\", \"last name\": \"dehghan\"},\n",
    "    \"age\": 22,\n",
    "    \"friends\": [\n",
    "        {\"first name\": \"Shahrad\", \"last name\": \"Shahraki\", \"age\": 21, \"id\": 0},\n",
    "        {\"first name\": \"mohammd\", \"last name\": \"khaninezhad\", \"age\": 22, \"id\": 1},\n",
    "        {\"first name\": \"Erfan\", \"last name\": \"KHYRI_Kasef\", \"age\": 23, \"id\": 2}\n",
    "    ]\n",
    "}\n",
    "\n",
    "# تعریف یک لیست خالی برای ذخیره سن دوستان\n",
    "ages = []\n",
    "\n",
    "# حلقه برای تکرار در لیست دوستان و استخراج سن هر دوست\n",
    "for i in range(len(profile_dict[\"friends\"])):\n",
    "    ages.append(profile_dict[\"friends\"][i][\"age\"])  # اضافه کردن سن هر دوست به لیست ages\n",
    "\n",
    "# پیدا کردن نام و نام خانوادگی پیرترین دوست\n",
    "print(\"This is my oldest friend:\", profile_dict[\"friends\"][ages.index(max(ages))][\"first name\"], \n",
    "      profile_dict[\"friends\"][ages.index(max(ages))][\"last name\"])\n",
    "\n",
    "# محاسبه میانگین سن دوستان\n",
    "average = 0\n",
    "for age in ages:\n",
    "    average += age  # جمع کردن سن‌ها\n",
    "\n",
    "# چاپ میانگین سن دوستان\n",
    "print(\"This is the average of my friends age:\", average // len(ages))  # استفاده از تقسیم صحیح برای میانگین"
   ]
  },
  {
   "cell_type": "code",
   "execution_count": 7,
   "metadata": {},
   "outputs": [
    {
     "name": "stdout",
     "output_type": "stream",
     "text": [
      "dict_keys(['name', 'age', 'cities'])\n",
      "dict_values([{'first name': 'hossein', 'last name': 'dehghan'}, 22, ['Tehran', 'kish', 'shiraz']])\n"
     ]
    }
   ],
   "source": [
    "print(profile_dict.keys())\n",
    "print(profile_dict.values())"
   ]
  },
  {
   "cell_type": "code",
   "execution_count": 10,
   "metadata": {},
   "outputs": [],
   "source": [
    "temp_file = open(\"my_text_file.txt\", \"w\")\n",
    "temp_file.write(str(profile_dict))\n",
    "temp_file.close()"
   ]
  },
  {
   "cell_type": "code",
   "execution_count": 11,
   "metadata": {},
   "outputs": [
    {
     "ename": "FileNotFoundError",
     "evalue": "[Errno 2] No such file or directory: 'amir_profile.txt'",
     "output_type": "error",
     "traceback": [
      "\u001b[1;31m---------------------------------------------------------------------------\u001b[0m",
      "\u001b[1;31mFileNotFoundError\u001b[0m                         Traceback (most recent call last)",
      "Cell \u001b[1;32mIn[11], line 1\u001b[0m\n\u001b[1;32m----> 1\u001b[0m input_file \u001b[38;5;241m=\u001b[39m \u001b[38;5;28;43mopen\u001b[39;49m\u001b[43m(\u001b[49m\u001b[38;5;124;43m'\u001b[39;49m\u001b[38;5;124;43mamir_profile.txt\u001b[39;49m\u001b[38;5;124;43m'\u001b[39;49m\u001b[43m,\u001b[49m\u001b[43m \u001b[49m\u001b[38;5;124;43m\"\u001b[39;49m\u001b[38;5;124;43mr\u001b[39;49m\u001b[38;5;124;43m\"\u001b[39;49m\u001b[43m)\u001b[49m\n\u001b[0;32m      2\u001b[0m amir_profile_string \u001b[38;5;241m=\u001b[39m input_file\u001b[38;5;241m.\u001b[39mread()\n\u001b[0;32m      3\u001b[0m input_file\u001b[38;5;241m.\u001b[39mclose()\n",
      "File \u001b[1;32m~\\AppData\\Local\\Programs\\Python\\Python312\\Lib\\site-packages\\IPython\\core\\interactiveshell.py:324\u001b[0m, in \u001b[0;36m_modified_open\u001b[1;34m(file, *args, **kwargs)\u001b[0m\n\u001b[0;32m    317\u001b[0m \u001b[38;5;28;01mif\u001b[39;00m file \u001b[38;5;129;01min\u001b[39;00m {\u001b[38;5;241m0\u001b[39m, \u001b[38;5;241m1\u001b[39m, \u001b[38;5;241m2\u001b[39m}:\n\u001b[0;32m    318\u001b[0m     \u001b[38;5;28;01mraise\u001b[39;00m \u001b[38;5;167;01mValueError\u001b[39;00m(\n\u001b[0;32m    319\u001b[0m         \u001b[38;5;124mf\u001b[39m\u001b[38;5;124m\"\u001b[39m\u001b[38;5;124mIPython won\u001b[39m\u001b[38;5;124m'\u001b[39m\u001b[38;5;124mt let you open fd=\u001b[39m\u001b[38;5;132;01m{\u001b[39;00mfile\u001b[38;5;132;01m}\u001b[39;00m\u001b[38;5;124m by default \u001b[39m\u001b[38;5;124m\"\u001b[39m\n\u001b[0;32m    320\u001b[0m         \u001b[38;5;124m\"\u001b[39m\u001b[38;5;124mas it is likely to crash IPython. If you know what you are doing, \u001b[39m\u001b[38;5;124m\"\u001b[39m\n\u001b[0;32m    321\u001b[0m         \u001b[38;5;124m\"\u001b[39m\u001b[38;5;124myou can use builtins\u001b[39m\u001b[38;5;124m'\u001b[39m\u001b[38;5;124m open.\u001b[39m\u001b[38;5;124m\"\u001b[39m\n\u001b[0;32m    322\u001b[0m     )\n\u001b[1;32m--> 324\u001b[0m \u001b[38;5;28;01mreturn\u001b[39;00m \u001b[43mio_open\u001b[49m\u001b[43m(\u001b[49m\u001b[43mfile\u001b[49m\u001b[43m,\u001b[49m\u001b[43m \u001b[49m\u001b[38;5;241;43m*\u001b[39;49m\u001b[43margs\u001b[49m\u001b[43m,\u001b[49m\u001b[43m \u001b[49m\u001b[38;5;241;43m*\u001b[39;49m\u001b[38;5;241;43m*\u001b[39;49m\u001b[43mkwargs\u001b[49m\u001b[43m)\u001b[49m\n",
      "\u001b[1;31mFileNotFoundError\u001b[0m: [Errno 2] No such file or directory: 'amir_profile.txt'"
     ]
    }
   ],
   "source": [
    "input_file = open('amir_profile.txt', \"r\")\n",
    "amir_profile_string = input_file.read()\n",
    "input_file.close()\n",
    "print(amir_profile_string)\n",
    "# import ast\n",
    "# amir_changed_profile = ast.literal_eval()\n",
    "x = \"((2 + 2 + 4 + 5 - 10 )/ 23) ** 85\"\n",
    "print(eval(x))\n"
   ]
  },
  {
   "cell_type": "code",
   "execution_count": null,
   "metadata": {},
   "outputs": [],
   "source": []
  }
 ],
 "metadata": {
  "kernelspec": {
   "display_name": "Python 3 (ipykernel)",
   "language": "python",
   "name": "python3"
  },
  "language_info": {
   "codemirror_mode": {
    "name": "ipython",
    "version": 3
   },
   "file_extension": ".py",
   "mimetype": "text/x-python",
   "name": "python",
   "nbconvert_exporter": "python",
   "pygments_lexer": "ipython3",
   "version": "3.12.1"
  }
 },
 "nbformat": 4,
 "nbformat_minor": 4
}
