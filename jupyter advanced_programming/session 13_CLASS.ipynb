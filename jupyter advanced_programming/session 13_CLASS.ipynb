{
 "cells": [
  {
   "cell_type": "markdown",
   "metadata": {},
   "source": [
    "# Session 13"
   ]
  },
  {
   "cell_type": "markdown",
   "metadata": {},
   "source": [
    "##  Functions"
   ]
  },
  {
   "cell_type": "code",
   "execution_count": 1,
   "metadata": {},
   "outputs": [],
   "source": [
    "def func(input):\n",
    "    # چاپ ورودی تابع\n",
    "    print(input)\n",
    "    \n",
    "    # برگرداندن دو برابر ورودی\n",
    "    return input * 2"
   ]
  },
  {
   "cell_type": "code",
   "execution_count": 2,
   "metadata": {},
   "outputs": [
    {
     "name": "stdout",
     "output_type": "stream",
     "text": [
      "HD\n",
      "HDHD\n"
     ]
    }
   ],
   "source": [
    "function = func(\"HD\")\n",
    "print(function)"
   ]
  },
  {
   "cell_type": "code",
   "execution_count": 3,
   "metadata": {},
   "outputs": [
    {
     "name": "stdout",
     "output_type": "stream",
     "text": [
      "0\n",
      "1\n",
      "1\n",
      "2\n",
      "3\n",
      "5\n",
      "8\n",
      "13\n",
      "21\n"
     ]
    },
    {
     "data": {
      "text/plain": [
       "514229"
      ]
     },
     "execution_count": 3,
     "metadata": {},
     "output_type": "execute_result"
    }
   ],
   "source": [
    "def fibo(n):\n",
    "    # بررسی اگر n برابر با 1 باشد\n",
    "    if n == 1:\n",
    "        return 0\n",
    "    # بررسی اگر n برابر با 2 یا 3 باشد\n",
    "    elif n == 2 or n == 3:\n",
    "        return 1\n",
    "    # اگر n بزرگ‌تر از 3 باشد، تابع به صورت بازگشتی فراخوانی می‌شود\n",
    "    if n > 3:\n",
    "        return fibo(n - 1) + fibo(n - 2)\n",
    "\n",
    "# چاپ مقادیر دنباله فیبوناچی برای n از 1 تا 9\n",
    "print(fibo(1))  # خروجی: 0\n",
    "print(fibo(2))  # خروجی: 1\n",
    "print(fibo(3))  # خروجی: 1\n",
    "print(fibo(4))  # خروجی: 2\n",
    "print(fibo(5))  # خروجی: 3\n",
    "print(fibo(6))  # خروجی: 5\n",
    "print(fibo(7))  # خروجی: 8\n",
    "print(fibo(8))  # خروجی: 13\n",
    "print(fibo(9))  # خروجی: 21\n",
    "\n",
    "# محاسبه دنباله فیبوناچی برای n = 30 (این خط فقط محاسبه می‌کند و نتیجه را چاپ نمی‌کند)\n",
    "fibo(30)"
   ]
  },
  {
   "cell_type": "markdown",
   "metadata": {},
   "source": [
    "## Q write a function that takes inputs n and p, p is coefficient and n is the number we want to see if it is hop"
   ]
  },
  {
   "cell_type": "code",
   "execution_count": 4,
   "metadata": {},
   "outputs": [
    {
     "name": "stdout",
     "output_type": "stream",
     "text": [
      "4\n",
      "Hop!\n"
     ]
    }
   ],
   "source": [
    "def hop_p(p, n):\n",
    "    # بررسی اینکه آیا n بر p بخش‌پذیر است یا خیر\n",
    "    if n % p == 0:\n",
    "        return(\"Hop!\")  # اگر بخش‌پذیر باشد، \"Hop!\" برگردانده می‌شود\n",
    "    else:\n",
    "        return(n)  # در غیر این صورت، مقدار n برگردانده می‌شود\n",
    "\n",
    "# تست تابع با p=3 و n=4\n",
    "print(hop_p(3, 4))  # خروجی: 4 (چون 4 بر 3 بخش‌پذیر نیست)\n",
    "\n",
    "# تست تابع با p=5 و n=10\n",
    "print(hop_p(5, 10))  # خروجی: \"Hop!\" (چون 10 بر 5 بخش‌پذیر است)"
   ]
  }
 ],
 "metadata": {
  "kernelspec": {
   "display_name": "Python 3 (ipykernel)",
   "language": "python",
   "name": "python3"
  },
  "language_info": {
   "codemirror_mode": {
    "name": "ipython",
    "version": 3
   },
   "file_extension": ".py",
   "mimetype": "text/x-python",
   "name": "python",
   "nbconvert_exporter": "python",
   "pygments_lexer": "ipython3",
   "version": "3.12.1"
  }
 },
 "nbformat": 4,
 "nbformat_minor": 4
}
