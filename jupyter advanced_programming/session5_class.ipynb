{
 "cells": [
  {
   "cell_type": "markdown",
   "metadata": {},
   "source": [
    "# session 5"
   ]
  },
  {
   "cell_type": "markdown",
   "metadata": {},
   "source": [
    "## 1.1 CamelSnake_case and case                                                                                                                            ### Illustration:"
   ]
  },
  {
   "cell_type": "code",
   "execution_count": 12,
   "metadata": {},
   "outputs": [],
   "source": [
    "thisIsMyCamelCase = 1\n",
    "this_is_my_snake_case = 2"
   ]
  },
  {
   "cell_type": "markdown",
   "metadata": {},
   "source": [
    "integerNumber = 20\n",
    "float_number = 43.5\n",
    "print(integerNumber * float_number)"
   ]
  },
  {
   "cell_type": "markdown",
   "metadata": {},
   "source": [
    "## 1.2 Strings"
   ]
  },
  {
   "cell_type": "code",
   "execution_count": 14,
   "metadata": {},
   "outputs": [
    {
     "name": "stdout",
     "output_type": "stream",
     "text": [
      "hossein\n"
     ]
    }
   ],
   "source": [
    "my_name = \"hossein\"\n",
    "print(my_name)"
   ]
  },
  {
   "cell_type": "markdown",
   "metadata": {},
   "source": [
    "### 1.2.1 len function"
   ]
  },
  {
   "cell_type": "code",
   "execution_count": 15,
   "metadata": {},
   "outputs": [
    {
     "name": "stdout",
     "output_type": "stream",
     "text": [
      "7\n",
      "11\n"
     ]
    }
   ],
   "source": [
    "print(len(my_name))\n",
    "print(len(\"long string\"))"
   ]
  },
  {
   "cell_type": "markdown",
   "metadata": {},
   "source": [
    "### 1.2.2 Indices"
   ]
  },
  {
   "cell_type": "code",
   "execution_count": 16,
   "metadata": {},
   "outputs": [
    {
     "name": "stdout",
     "output_type": "stream",
     "text": [
      "you are ?\n",
      "h o n ?\n",
      "n\n"
     ]
    }
   ],
   "source": [
    "#ایندکس به موقعیت یک عنصر درون یک لیست یا رشته اشاره دارد. این مفهوم به کاربر این امکان را می‌دهد که به عناصر خاصی در یک توالی دسترسی پیدا کند\n",
    "print(\"you are ?\")\n",
    "print(my_name[0], my_name[1], my_name[-1], \"?\")\n",
    "print(my_name[len(my_name) - 1])"
   ]
  },
  {
   "cell_type": "markdown",
   "metadata": {},
   "source": [
    "### 1.2.3 Intervals in indices  "
   ]
  },
  {
   "cell_type": "markdown",
   "metadata": {},
   "source": [
    "## فواصل در ایندکس‌ها ابزاری قدرتمند برای مدیریت داده‌ها در برنامه‌نویسی هستند. استفاده از فواصل نیمه‌باز به ویژه در پایتون متداول است و به برنامه‌نویسان کمک می‌کند تا با سادگی بیشتری به داده‌ها دسترسی پیدا کنند و کدهای خود را بهینه‌تر بنویسند."
   ]
  },
  {
   "cell_type": "code",
   "execution_count": 18,
   "metadata": {},
   "outputs": [
    {
     "name": "stdout",
     "output_type": "stream",
     "text": [
      "os\n"
     ]
    }
   ],
   "source": [
    "print(my_name[1:3])"
   ]
  },
  {
   "cell_type": "markdown",
   "metadata": {},
   "source": [
    "### 1.2.4 string addition"
   ]
  },
  {
   "cell_type": "markdown",
   "metadata": {},
   "source": [
    "# الحاق رشته‌ها به معنای ترکیب دو یا چند رشته به یک رشته جدید است. در زبان برنامه‌نویسی پایتون، چندین روش برای انجام این کار وجود دارد"
   ]
  },
  {
   "cell_type": "code",
   "execution_count": 6,
   "metadata": {},
   "outputs": [
    {
     "name": "stdout",
     "output_type": "stream",
     "text": [
      "hosseindehghan\n"
     ]
    }
   ],
   "source": [
    "my_family = \"dehghan\"\n",
    "print(my_name + my_family)"
   ]
  },
  {
   "cell_type": "markdown",
   "metadata": {},
   "source": [
    "### 1.2.5 string multiplication"
   ]
  },
  {
   "cell_type": "markdown",
   "metadata": {},
   "source": [
    "## به این معناست که می‌توان یک رشته را به تعداد مشخصی تکرار کرد"
   ]
  },
  {
   "cell_type": "code",
   "execution_count": 7,
   "metadata": {},
   "outputs": [
    {
     "name": "stdout",
     "output_type": "stream",
     "text": [
      "hosseinhosseinhossein\n"
     ]
    }
   ],
   "source": [
    "print(my_name * 3)"
   ]
  },
  {
   "cell_type": "markdown",
   "metadata": {},
   "source": [
    "### 1.2.6 Overall assessment\n",
    "The operation of string addition and multiplication\n",
    "How to utilize \", \", and \"\"\"\n",
    "The syntax _variable or temp must be used if we wish to use a variable sparingly or only once.A variable"
   ]
  },
  {
   "cell_type": "code",
   "execution_count": 20,
   "metadata": {},
   "outputs": [
    {
     "name": "stdout",
     "output_type": "stream",
     "text": [
      "4\n",
      "22\n",
      "this  does work \n"
     ]
    }
   ],
   "source": [
    "_int = 2\n",
    "_str = \"2\"\n",
    "print(_int*2)\n",
    "print(_str*2)\n",
    "print(\"\"\"this does work !!!\"\"\")"
   ]
  },
  {
   "cell_type": "markdown",
   "metadata": {},
   "source": [
    "## 1.3 Methods"
   ]
  },
  {
   "cell_type": "markdown",
   "metadata": {},
   "source": [
    "## متدها  در پایتون توابعی هستند که به یک شیء  یا کلاس  تعلق دارند و برای انجام عملیات خاصی بر روی داده‌های آن شیء یا کلاس استفاده می‌شوند. در واقع، متدها نوعی از توابع هستند که درون یک کلاس تعریف می‌شوند و معمولاً برای کار با داده‌های آن کلاس طراحی شده‌اند.\n"
   ]
  },
  {
   "cell_type": "code",
   "execution_count": 9,
   "metadata": {},
   "outputs": [
    {
     "name": "stdout",
     "output_type": "stream",
     "text": [
      "17\n"
     ]
    }
   ],
   "source": [
    "_str = \"dkngsddgsdgdgsc ,h gdf,h j\"\n",
    "print(_str.find(\"h\"))"
   ]
  }
 ],
 "metadata": {
  "kernelspec": {
   "display_name": "Python 3 (ipykernel)",
   "language": "python",
   "name": "python3"
  },
  "language_info": {
   "codemirror_mode": {
    "name": "ipython",
    "version": 3
   },
   "file_extension": ".py",
   "mimetype": "text/x-python",
   "name": "python",
   "nbconvert_exporter": "python",
   "pygments_lexer": "ipython3",
   "version": "3.12.1"
  }
 },
 "nbformat": 4,
 "nbformat_minor": 4
}
