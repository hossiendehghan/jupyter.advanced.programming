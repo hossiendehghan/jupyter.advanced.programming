{
 "cells": [
  {
   "cell_type": "markdown",
   "metadata": {},
   "source": [
    "# Session 9"
   ]
  },
  {
   "cell_type": "markdown",
   "metadata": {},
   "source": [
    "##  For_loop"
   ]
  },
  {
   "cell_type": "code",
   "execution_count": 1,
   "metadata": {},
   "outputs": [
    {
     "name": "stdout",
     "output_type": "stream",
     "text": [
      "0\n",
      "1\n",
      "2\n",
      "3\n",
      "4\n",
      "5\n",
      "6\n",
      "7\n",
      "8\n",
      "9\n",
      "10\n",
      "11\n",
      "12\n",
      "13\n",
      "14\n",
      "15\n",
      "16\n",
      "17\n",
      "18\n",
      "19\n"
     ]
    }
   ],
   "source": [
    "for i in range(20):\n",
    "    print(i)\n"
   ]
  },
  {
   "cell_type": "code",
   "execution_count": 2,
   "metadata": {},
   "outputs": [
    {
     "name": "stdout",
     "output_type": "stream",
     "text": [
      "45\n"
     ]
    }
   ],
   "source": [
    "sum = 0\n",
    "for i in range(10):\n",
    "    sum += i\n",
    "print(sum)"
   ]
  },
  {
   "cell_type": "markdown",
   "metadata": {},
   "source": [
    "###  Q._ Factorial"
   ]
  },
  {
   "cell_type": "code",
   "execution_count": 4,
   "metadata": {},
   "outputs": [
    {
     "name": "stdout",
     "output_type": "stream",
     "text": [
      "7257600\n"
     ]
    }
   ],
   "source": [
    "# تعریف متغیر n به عنوان عددی که می‌خواهیم فاکتوریل آن را محاسبه کنیم\n",
    "n = 10\n",
    "\n",
    "n_fac = 2\n",
    "\n",
    "for i in range(n):\n",
    "    n_fac *= i + 1\n",
    "\n",
    "print(n_fac)"
   ]
  },
  {
   "cell_type": "markdown",
   "metadata": {},
   "source": [
    "###  Range_usage"
   ]
  },
  {
   "cell_type": "code",
   "execution_count": 5,
   "metadata": {},
   "outputs": [
    {
     "name": "stdout",
     "output_type": "stream",
     "text": [
      "0\n",
      "1\n",
      "2\n",
      "3\n",
      "4\n",
      "\n",
      "\n",
      "3\n",
      "4\n",
      "5\n",
      "6\n",
      "\n",
      "\n",
      "2\n",
      "4\n",
      "6\n"
     ]
    }
   ],
   "source": [
    "# حلقه اول: چاپ اعداد از 0 تا 4\n",
    "for i in range(5):  # از 0 تا 4 (5 عدد)\n",
    "    print(i)\n",
    "\n",
    "print(\"\\n\")  # چاپ یک خط جدید\n",
    "\n",
    "# حلقه دوم: چاپ اعداد از 3 تا 6\n",
    "for i in range(3, 7):  # از 3 تا 6 (4 عدد)\n",
    "    print(i)\n",
    "\n",
    "print(\"\\n\")  # چاپ یک خط جدید\n",
    "\n",
    "# حلقه سوم: چاپ اعداد زوج بین 2 تا 6\n",
    "for i in range(2, 7, 2):  # از 2 تا 6 با گام 2\n",
    "    print(i)"
   ]
  },
  {
   "cell_type": "code",
   "execution_count": 6,
   "metadata": {},
   "outputs": [
    {
     "name": "stdout",
     "output_type": "stream",
     "text": [
      "1\n",
      "2\n",
      "3\n",
      "Hop!\n",
      "5\n",
      "6\n",
      "7\n",
      "Hop!\n",
      "9\n",
      "10\n",
      "11\n",
      "Hop!\n",
      "13\n",
      "14\n",
      "15\n",
      "Hop!\n",
      "17\n",
      "18\n",
      "19\n",
      "Hop!\n",
      "21\n",
      "22\n",
      "23\n",
      "Hop!\n",
      "25\n",
      "26\n",
      "27\n",
      "Hop!\n",
      "29\n"
     ]
    }
   ],
   "source": [
    "number = 1\n",
    "\n",
    "# حلقه بی‌نهایت\n",
    "while True:\n",
    "    if number % 4 == 0:\n",
    "        print(\"Hop!\")  # چاپ \"Hop!\"\n",
    "    else: \n",
    "        print(number)  # چاپ مقدار number\n",
    "\n",
    "    number += 1\n",
    "\n",
    "    if number >= 30:\n",
    "        break\n"
   ]
  }
 ],
 "metadata": {
  "kernelspec": {
   "display_name": "Python 3 (ipykernel)",
   "language": "python",
   "name": "python3"
  },
  "language_info": {
   "codemirror_mode": {
    "name": "ipython",
    "version": 3
   },
   "file_extension": ".py",
   "mimetype": "text/x-python",
   "name": "python",
   "nbconvert_exporter": "python",
   "pygments_lexer": "ipython3",
   "version": "3.12.1"
  }
 },
 "nbformat": 4,
 "nbformat_minor": 4
}
