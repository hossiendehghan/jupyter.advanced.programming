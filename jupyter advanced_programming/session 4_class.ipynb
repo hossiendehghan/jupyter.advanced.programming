{
 "cells": [
  {
   "cell_type": "markdown",
   "metadata": {},
   "source": [
    "# Session 4"
   ]
  },
  {
   "cell_type": "markdown",
   "metadata": {},
   "source": [
    "# Title                                                                                                                                                   \n",
    "متد title() در پایتون یکی از متدهای رشته‌ای است که به منظور تبدیل یک رشته به فرمت عنوان (title case) استفاده می‌شود. در این فرمت، اولین حرف هر کلمه به حروف بزرگ تبدیل می‌شود و سایر حروف به حروف کوچک تبدیل می‌شوند. این متد یک رشته جدید را برمی‌گرداند و رشته اصلی را تغییر نمی‌دهد.\n",
    "نحوه استفاده"
   ]
  },
  {
   "cell_type": "markdown",
   "metadata": {},
   "source": [
    "## Introduction                 "
   ]
  },
  {
   "cell_type": "markdown",
   "metadata": {},
   "source": [
    "پایتون یک زبان برنامه‌نویسی سطح بالا و چندمنظوره است که در سال 1991 توسط گیدو ون راسوم ایجاد شد. این زبان به دلیل سادگی، قابلیت خوانایی بالا و قدرت انعطاف‌پذیری، به سرعت در بین برنامه‌نویسان"
   ]
  },
  {
   "cell_type": "markdown",
   "metadata": {},
   "source": [
    "## background __________"
   ]
  },
  {
   "cell_type": "markdown",
   "metadata": {},
   "source": [
    "در پایتون، اجرای کارها در پس‌زمینه به معنای اجرای توابع یا پردازش‌ها به صورت همزمان با اجرای سایر کدها است. این کار می‌تواند به ویژه زمانی مفید باشد که شما نیاز دارید تا یک عملیات طولانی‌مدت را بدون مسدود کردن برنامه اصلی انجام دهید."
   ]
  },
  {
   "cell_type": "markdown",
   "metadata": {},
   "source": [
    "## Font  \n"
   ]
  },
  {
   "cell_type": "markdown",
   "metadata": {},
   "source": [
    "در پایتون، به ویژه در هنگام استفاده از کتابخانه Tkinter برای ایجاد رابط‌های گرافیکی (GUI)، شما می‌توانید از فونت‌ها برای تغییر ظاهر متن استفاده کنید. این قابلیت به شما این امکان را می‌دهد که متن را به صورت زیباتر و خواناتر نمایش دهید"
   ]
  },
  {
   "cell_type": "markdown",
   "metadata": {},
   "source": [
    "###  Italic\n",
    " "
   ]
  },
  {
   "cell_type": "markdown",
   "metadata": {},
   "source": [
    "در پایتون، برای نمایش متن به صورت ایتالیک (Italic)، روش‌های مختلفی وجود دارد که بسته به محیطی که در آن کار می‌کنید متفاوت است."
   ]
  },
  {
   "cell_type": "markdown",
   "metadata": {},
   "source": [
    "###  Bold\n"
   ]
  },
  {
   "cell_type": "markdown",
   "metadata": {},
   "source": [
    "در پایتون، برای نمایش متن به صورت بولد (bold)، روش‌های مختلفی وجود دارد. این روش‌ها شامل استفاده از کدهای ANSI، کتابخانه‌های خاص و توابع سفارشی است"
   ]
  },
  {
   "cell_type": "markdown",
   "metadata": {},
   "source": [
    "###  Bold and Italic<br>\n",
    "***Bold and Italic*** 3* or 3_"
   ]
  },
  {
   "cell_type": "markdown",
   "metadata": {},
   "source": [
    "## Tree branch<br>\n",
    "- chapter 1\n",
    "- chapter 2\n",
    "    - chapter 2.1\n",
    "        - chapter y"
   ]
  },
  {
   "cell_type": "markdown",
   "metadata": {},
   "source": [
    "## Intro\n",
    "The introduction outlines the purpose and structure of the Python content, preparing readers for what to expect.\n",
    "Chapter 1\n",
    "This chapter covers the basics of Python programming, including syntax, data types, and fundamental concepts.\n",
    "Chapter 2\n",
    "Chapter 2 delves into more advanced topics in Python, such as functions, modules, and error handling.\n",
    "Chapter 2.1\n",
    "This subsection focuses on specific techniques for writing efficient Python code, including best practices and optimization strategies."
   ]
  },
  {
   "cell_type": "markdown",
   "metadata": {},
   "source": [
    "ایجاد خطوط جدید  \n",
    "خط اول\n",
    "این خط می‌تواند شامل اطلاعات یا متنی باشد که می‌خواهید در ابتدا ارائه دهید. این متن می‌تواند مقدمه‌ای بر موضوع یا ایده‌ای باشد که قصد دارید در ادامه به آن بپردازید\n",
    "خط دوم\n",
    "این خط معمولاً ادامه یا توضیحاتی درباره خط اول است. می‌تواند شامل جزئیات بیشتر، مثال‌ها یا نتیجه‌گیری‌هایی باشد که به درک بهتر موضوع کمک می‌کند\n",
    "به طور کلی، استفاده از خطوط جدید به سازماندهی بهتر اطلاعات و افزایش خوانایی متن کمک می‌کند"
   ]
  }
 ],
 "metadata": {
  "kernelspec": {
   "display_name": "Python 3 (ipykernel)",
   "language": "python",
   "name": "python3"
  },
  "language_info": {
   "codemirror_mode": {
    "name": "ipython",
    "version": 3
   },
   "file_extension": ".py",
   "mimetype": "text/x-python",
   "name": "python",
   "nbconvert_exporter": "python",
   "pygments_lexer": "ipython3",
   "version": "3.12.1"
  }
 },
 "nbformat": 4,
 "nbformat_minor": 4
}
