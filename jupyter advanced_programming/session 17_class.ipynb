{
 "cells": [
  {
   "cell_type": "markdown",
   "metadata": {},
   "source": [
    "# Session 17"
   ]
  },
  {
   "cell_type": "markdown",
   "metadata": {},
   "source": [
    "##  ؟؟؟tsv file in pandas"
   ]
  },
  {
   "cell_type": "code",
   "execution_count": 13,
   "metadata": {},
   "outputs": [
    {
     "name": "stdout",
     "output_type": "stream",
     "text": [
      "            tconst  averageRating  numVotes\n",
      "78058    tt0103649           10.0        13\n",
      "96240    tt0127236           10.0        23\n",
      "104552   tt0143979           10.0         5\n",
      "125597   tt0183268           10.0        13\n",
      "126540   tt0184926           10.0        12\n",
      "...            ...            ...       ...\n",
      "1498965  tt9805198           10.0        15\n",
      "1498968  tt9805208           10.0        12\n",
      "1498970  tt9805258           10.0         5\n",
      "1501090  tt9866444           10.0         8\n",
      "1501973  tt9889628           10.0         5\n",
      "\n",
      "[6416 rows x 3 columns]\n",
      "6416\n",
      "          tconst  averageRating  numVotes\n",
      "84328  tt0111161            9.3   2966619\n",
      "1\n",
      "           tconst  averageRating  numVotes\n",
      "957496  tt2301451           10.0    232528 highest rated and number of votes\n"
     ]
    }
   ],
   "source": [
    "import pandas as pd  # وارد کردن کتابخانه pandas برای کار با داده‌ها\n",
    "\n",
    "# تعیین مسیر فایل داده‌ها\n",
    "file_path = 'imdb data/title.ratings.tsv.gz'\n",
    "\n",
    "# خواندن داده‌ها از فایل TSV با استفاده از pandas\n",
    "df = pd.read_csv(file_path, delimiter='\\t')\n",
    "\n",
    "max_rating = df['averageRating'].max()\n",
    "\n",
    "# فیلتر کردن ردیف‌هایی که دارای بالاترین امتیاز هستند\n",
    "highest_rated = df[df['averageRating'] == max_rating]\n",
    "\n",
    "# چاپ ردیف‌های دارای بالاترین امتیاز\n",
    "print(highest_rated)\n",
    "print(len(highest_rated))\n",
    "\n",
    "max_num = df['numVotes'].max()\n",
    "\n",
    "highest_num = df[df['numVotes'] == max_num]\n",
    "\n",
    "print(highest_num)\n",
    "print(len(highest_num))\n",
    "\n",
    "highest_rated_max = highest_rated['numVotes'].max()\n",
    "\n",
    "highest_rated_num = highest_rated[highest_rated['numVotes'] == highest_rated_max]\n",
    "\n",
    "# چاپ ردیف‌های با بالاترین امتیاز و بیشترین تعداد رای\n",
    "print(highest_rated_num, \"highest rated and number of votes\")"
   ]
  },
  {
   "cell_type": "markdown",
   "metadata": {},
   "source": [
    "## ؟؟؟ finding the directors name and movie name for the best rated and highest number of votes"
   ]
  },
  {
   "cell_type": "code",
   "execution_count": null,
   "metadata": {},
   "outputs": [],
   "source": [
    "# استخراج شناسه‌های فیلم از DataFrame مربوط به فیلم‌های با بالاترین امتیاز و بیشترین رأی\n",
    "movie_id = highest_rated_num['tconst']"
   ]
  }
 ],
 "metadata": {
  "kernelspec": {
   "display_name": "Python 3 (ipykernel)",
   "language": "python",
   "name": "python3"
  },
  "language_info": {
   "codemirror_mode": {
    "name": "ipython",
    "version": 3
   },
   "file_extension": ".py",
   "mimetype": "text/x-python",
   "name": "python",
   "nbconvert_exporter": "python",
   "pygments_lexer": "ipython3",
   "version": "3.12.1"
  }
 },
 "nbformat": 4,
 "nbformat_minor": 4
}
