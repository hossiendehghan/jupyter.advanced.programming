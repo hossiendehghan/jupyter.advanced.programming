{
 "cells": [
  {
   "cell_type": "markdown",
   "metadata": {},
   "source": [
    "# Session 11"
   ]
  },
  {
   "cell_type": "markdown",
   "metadata": {},
   "source": [
    "## Q._Print courses that I passed in the decending order"
   ]
  },
  {
   "cell_type": "code",
   "execution_count": 1,
   "metadata": {},
   "outputs": [
    {
     "name": "stdout",
     "output_type": "stream",
     "text": [
      "physics = 30\n",
      "math = 25\n",
      "chemistry = 15\n",
      "BP = 12\n"
     ]
    }
   ],
   "source": [
    "# تعریف لیست نمرات\n",
    "my_scores = [25, 8, 15, 30, 5, 12]\n",
    "\n",
    "# تعریف لیست دوره‌ها\n",
    "my_courses = [\"math\", \"history\", \"chemistry\", \"physics\", \"AP\", \"BP\"]\n",
    "\n",
    "# حلقه تا زمانی که لیست نمرات خالی نباشد\n",
    "while len(my_scores) > 0:\n",
    "    # اگر کمترین نمره کمتر از 10 باشد\n",
    "    if min(my_scores) < 10:\n",
    "        # پیدا کردن ایندکس کمترین نمره\n",
    "        index = my_scores.index(min(my_scores))\n",
    "        # حذف دوره مربوط به کمترین نمره از لیست دوره‌ها\n",
    "        my_courses.remove(my_courses[index])\n",
    "        # حذف کمترین نمره از لیست نمرات\n",
    "        my_scores.remove(min(my_scores))\n",
    "    else:\n",
    "        # پیدا کردن ایندکس بیشترین نمره\n",
    "        index = my_scores.index(max(my_scores))\n",
    "        # چاپ نام دوره و نمره مربوط به آن\n",
    "        print(my_courses[index] + \" = \" + str(my_scores[index]))\n",
    "        # حذف بیشترین نمره از لیست نمرات\n",
    "        my_scores.remove(my_scores[index])\n",
    "        # حذف دوره مربوط به بیشترین نمره از لیست دوره‌ها\n",
    "        my_courses.remove(my_courses[index])"
   ]
  },
  {
   "cell_type": "markdown",
   "metadata": {},
   "source": [
    "##  dictionary"
   ]
  },
  {
   "cell_type": "code",
   "execution_count": 2,
   "metadata": {},
   "outputs": [
    {
     "name": "stdout",
     "output_type": "stream",
     "text": [
      "hossein\n",
      "22\n"
     ]
    }
   ],
   "source": [
    "# تعریف یک دیکشنری شامل اطلاعات شخص\n",
    "temp_dict = {\"name\": \"hossein\", \"age\": 22}\n",
    "\n",
    "# چاپ نام شخص از دیکشنری\n",
    "print(temp_dict[\"name\"])  # خروجی: ali\n",
    "\n",
    "# چاپ سن شخص از دیکشنری\n",
    "print(temp_dict[\"age\"])   # خروجی: 25\n"
   ]
  },
  {
   "cell_type": "markdown",
   "metadata": {},
   "source": [
    "###  name dict"
   ]
  },
  {
   "cell_type": "code",
   "execution_count": 3,
   "metadata": {},
   "outputs": [
    {
     "name": "stdout",
     "output_type": "stream",
     "text": [
      "{'name': {'first name': 'hossein', 'last name': 'dehghan'}, 'age': 22}\n",
      "hossein\n",
      "The last city you visited was shiraz and you have been to 3 cities\n"
     ]
    }
   ],
   "source": [
    "# تعریف یک دیکشنری شامل نام و نام خانوادگی\n",
    "name_dict = {\"first name\": \"hossein\", \"last name\": \"dehghan\"}\n",
    "\n",
    "# تعریف یک دیکشنری شامل پروفایل که شامل نام و سن است\n",
    "profile_dict = {\"name\": name_dict, \"age\": 22}\n",
    "\n",
    "# چاپ دیکشنری پروفایل\n",
    "print(profile_dict)\n",
    "\n",
    "# چاپ نام کوچک از دیکشنری پروفایل\n",
    "print(profile_dict[\"name\"][\"first name\"])\n",
    "\n",
    "# تعریف یک لیست از شهرها\n",
    "cities = [\"Tehran\", \"kish\", \"shiraz\"]\n",
    "\n",
    "# اضافه کردن لیست شهرها به دیکشنری پروفایل\n",
    "profile_dict[\"cities\"] = cities\n",
    "\n",
    "# چاپ آخرین شهری که بازدید شده و تعداد شهرهایی که بازدید شده است\n",
    "print(\"The last city you visited was\", profile_dict[\"cities\"][-1], \"and you have been to\", len(profile_dict[\"cities\"]), \"cities\")"
   ]
  },
  {
   "cell_type": "code",
   "execution_count": 4,
   "metadata": {},
   "outputs": [
    {
     "name": "stdout",
     "output_type": "stream",
     "text": [
      "{'friends': [{'first name': 'Shahrad', 'last name': 'Shahraki', 'age': 21, 'id': 0}, {'first name': 'MOHAMMAD', 'last name': 'KHANI NEZHAD', 'age': 22, 'id': 1}]}\n",
      "[{'first name': 'Shahrad', 'last name': 'Shahraki', 'age': 21, 'id': 0}, {'first name': 'MOHAMMAD', 'last name': 'KHANI NEZHAD', 'age': 22, 'id': 1}, {'first name': 'Erfan', 'last name': ' KHYRI_Kasef', 'age': 23, 'id': 2}]\n"
     ]
    }
   ],
   "source": [
    "# تعریف یک دیکشنری شامل اطلاعات پروفایل\n",
    "profile_dict = {\n",
    "    \"friends\": [\n",
    "        {\"first name\": \"Shahrad\", \"last name\": \"Shahraki\", \"age\": 21, \"id\": 0},\n",
    "        {\"first name\": \"MOHAMMAD\", \"last name\": \"KHANI NEZHAD\", \"age\": 22, \"id\": 1}\n",
    "    ]\n",
    "}\n",
    "\n",
    "# چاپ دیکشنری پروفایل\n",
    "print(profile_dict)\n",
    "\n",
    "# اضافه کردن دوست جدید به لیست دوستان\n",
    "profile_dict[\"friends\"].append({\"first name\": \"Erfan\", \"last name\": \" KHYRI_Kasef\", \"age\": 23, \"id\": 2})\n",
    "\n",
    "# چاپ لیست دوستان پس از اضافه کردن دوست جدید\n",
    "print(profile_dict[\"friends\"])"
   ]
  },
  {
   "cell_type": "markdown",
   "metadata": {},
   "source": [
    "## Q print name of oldest friend and average age of your friends "
   ]
  },
  {
   "cell_type": "code",
   "execution_count": 5,
   "metadata": {},
   "outputs": [
    {
     "name": "stdout",
     "output_type": "stream",
     "text": [
      "This is my oldest friend: Erfan  KHYRI_Kasef\n",
      "This is the average of my friends age: 22\n"
     ]
    }
   ],
   "source": [
    "# تعریف یک لیست خالی برای ذخیره سن دوستان\n",
    "ages = []\n",
    "\n",
    "# حلقه برای تکرار در لیست دوستان و استخراج سن هر دوست\n",
    "for i in range(len(profile_dict[\"friends\"])):\n",
    "    ages.append(profile_dict[\"friends\"][i][\"age\"])  # اضافه کردن سن هر دوست به لیست ages\n",
    "\n",
    "# پیدا کردن نام و نام خانوادگی پیرترین دوست\n",
    "print(\"This is my oldest friend:\", profile_dict[\"friends\"][ages.index(max(ages))][\"first name\"], \n",
    "      profile_dict[\"friends\"][ages.index(max(ages))][\"last name\"])\n",
    "\n",
    "# محاسبه میانگین سن دوستان\n",
    "average = 0\n",
    "for age in ages:\n",
    "    average += age  # جمع کردن سن‌ها\n",
    "\n",
    "# چاپ میانگین سن دوستان\n",
    "print(\"This is the average of my friends age:\", average // len(ages))  # استفاده از تقسیم صحیح برای میانگین"
   ]
  }
 ],
 "metadata": {
  "kernelspec": {
   "display_name": "Python 3 (ipykernel)",
   "language": "python",
   "name": "python3"
  },
  "language_info": {
   "codemirror_mode": {
    "name": "ipython",
    "version": 3
   },
   "file_extension": ".py",
   "mimetype": "text/x-python",
   "name": "python",
   "nbconvert_exporter": "python",
   "pygments_lexer": "ipython3",
   "version": "3.12.1"
  }
 },
 "nbformat": 4,
 "nbformat_minor": 4
}
